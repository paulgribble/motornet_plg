{
 "cells": [
  {
   "cell_type": "code",
   "execution_count": null,
   "metadata": {
    "execution": {
     "iopub.execute_input": "2022-06-22T14:21:03.295744Z",
     "iopub.status.busy": "2022-06-22T14:21:03.295422Z",
     "iopub.status.idle": "2022-06-22T14:21:03.306394Z",
     "shell.execute_reply": "2022-06-22T14:21:03.305909Z"
    }
   },
   "outputs": [],
   "source": [
    "from datetime import datetime\n",
    "now = datetime.now()\n",
    "dt_string = now.strftime(\"%d/%m/%Y %H:%M:%S\")\n",
    "print(\"date and time =\", dt_string)"
   ]
  },
  {
   "cell_type": "code",
   "execution_count": null,
   "metadata": {
    "execution": {
     "iopub.execute_input": "2022-06-22T14:21:03.328554Z",
     "iopub.status.busy": "2022-06-22T14:21:03.328365Z",
     "iopub.status.idle": "2022-06-22T14:21:03.330708Z",
     "shell.execute_reply": "2022-06-22T14:21:03.330383Z"
    }
   },
   "outputs": [],
   "source": [
    "import os.path\n",
    "import sys\n",
    "motornet_home = os.path.expanduser(\"~\") + \"/github/MotorNet\"\n",
    "sys.path.append(motornet_home)"
   ]
  },
  {
   "cell_type": "code",
   "execution_count": null,
   "metadata": {
    "execution": {
     "iopub.execute_input": "2022-06-22T14:21:03.332604Z",
     "iopub.status.busy": "2022-06-22T14:21:03.332466Z",
     "iopub.status.idle": "2022-06-22T14:21:04.999314Z",
     "shell.execute_reply": "2022-06-22T14:21:04.998940Z"
    }
   },
   "outputs": [],
   "source": [
    "import numpy as np\n",
    "import tensorflow as tf\n",
    "import matplotlib.pyplot as plt\n",
    "import motornet as mn\n",
    "from motornet.plants.muscles import RigidTendonHillMuscleThelen\n",
    "\n",
    "# Disable all GPUS\n",
    "tf.config.set_visible_devices([], 'GPU')\n",
    "visible_devices = tf.config.get_visible_devices()\n",
    "for device in visible_devices:\n",
    "    assert device.device_type != 'GPU'\n",
    "\n",
    "%load_ext autoreload\n",
    "%autoreload 2"
   ]
  },
  {
   "cell_type": "code",
   "execution_count": null,
   "metadata": {},
   "outputs": [],
   "source": [
    "import plg_tasks"
   ]
  },
  {
   "cell_type": "code",
   "execution_count": null,
   "metadata": {
    "execution": {
     "iopub.execute_input": "2022-06-22T14:21:05.001683Z",
     "iopub.status.busy": "2022-06-22T14:21:05.001509Z",
     "iopub.status.idle": "2022-06-22T14:21:05.016934Z",
     "shell.execute_reply": "2022-06-22T14:21:05.016653Z"
    }
   },
   "outputs": [],
   "source": [
    "# SET UP FFs\n",
    "b = 8\n",
    "FF_NF  = tf.convert_to_tensor(np.array([[0, 0],[ 0,0]]), dtype=tf.float32)\n",
    "FF_CCW = tf.convert_to_tensor(np.array([[0,-b],[ b,0]]), dtype=tf.float32)\n",
    "FF_CW  = tf.convert_to_tensor(np.array([[0, b],[-b,0]]), dtype=tf.float32)"
   ]
  },
  {
   "cell_type": "code",
   "execution_count": null,
   "metadata": {
    "execution": {
     "iopub.execute_input": "2022-06-22T14:21:05.018648Z",
     "iopub.status.busy": "2022-06-22T14:21:05.018554Z",
     "iopub.status.idle": "2022-06-22T14:21:05.033637Z",
     "shell.execute_reply": "2022-06-22T14:21:05.033367Z"
    }
   },
   "outputs": [],
   "source": [
    "def create_network():\n",
    "    # SET UP PLANT\n",
    "    plant = mn.plants.RigidTendonArm26(muscle_type=RigidTendonHillMuscleThelen(), visual_delay=0.07, proprioceptive_delay=0.02)\n",
    "    # SET UP NETWORK\n",
    "    n_units = 64\n",
    "    network = mn.nets.layers.GRUNetwork(plant=plant, n_units=n_units, kernel_regularizer=1e-7, name='network', recurrent_regularizer=1e-5)\n",
    "    # SET UP TASK\n",
    "    start_position = [0.785, 1.570] # [45,90] deg\n",
    "    go_cue_range = (.100, .300)\n",
    "    task = plg_tasks.CentreOutFF(network=network, start_position=start_position, go_cue_range=go_cue_range)\n",
    "    task.network.do_recompute_inputs = True\n",
    "    task.network.recompute_inputs = task.recompute_inputs\n",
    "    task._loss_weights[\"cartesian position\"] = [1.0]\n",
    "    task._loss_weights[\"muscle state\"] = [5.0]\n",
    "    task._loss_weights[\"gru_hidden_0\"] = [0.1]\n",
    "    # SET UP RNN\n",
    "    rnn = tf.keras.layers.RNN(cell=network, return_sequences=True, name='RNN')\n",
    "    input_dict = task.get_input_dict_layers()\n",
    "    state0 = task.get_initial_state_layers()\n",
    "    states_out = rnn(input_dict, initial_state=state0)\n",
    "    # SET UP MAIN NETWORK OBJECT\n",
    "    nn = mn.nets.MotorNetModel(inputs=[input_dict, state0], outputs=states_out, name='model', task=task)\n",
    "    nn.compile(optimizer=tf.optimizers.Adam(clipnorm=1.), loss=task.losses, loss_weights=task.loss_weights)\n",
    "    return nn"
   ]
  },
  {
   "cell_type": "code",
   "execution_count": null,
   "metadata": {
    "execution": {
     "iopub.execute_input": "2022-06-22T14:21:05.035225Z",
     "iopub.status.busy": "2022-06-22T14:21:05.035131Z",
     "iopub.status.idle": "2022-06-22T14:21:05.574654Z",
     "shell.execute_reply": "2022-06-22T14:21:05.574412Z"
    }
   },
   "outputs": [],
   "source": [
    "nn = create_network()\n",
    "nn.summary()"
   ]
  },
  {
   "cell_type": "code",
   "execution_count": null,
   "metadata": {
    "execution": {
     "iopub.execute_input": "2022-06-22T14:21:05.584863Z",
     "iopub.status.busy": "2022-06-22T14:21:05.584753Z",
     "iopub.status.idle": "2022-06-22T14:21:05.600423Z",
     "shell.execute_reply": "2022-06-22T14:21:05.600195Z"
    }
   },
   "outputs": [],
   "source": [
    "nn.task.print_losses()"
   ]
  },
  {
   "cell_type": "markdown",
   "metadata": {},
   "source": [
    "# TRAIN NETWORK TO REACH IN A NF"
   ]
  },
  {
   "cell_type": "code",
   "execution_count": null,
   "metadata": {
    "execution": {
     "iopub.execute_input": "2022-06-22T14:21:05.602026Z",
     "iopub.status.busy": "2022-06-22T14:21:05.601942Z",
     "iopub.status.idle": "2022-06-22T14:26:28.990574Z",
     "shell.execute_reply": "2022-06-22T14:26:28.990263Z"
    },
    "pycharm": {
     "is_executing": true
    }
   },
   "outputs": [],
   "source": [
    "# TRAIN NETWORK on point to point reaches between random targets in the arm's workspace\n",
    "# IN A NULL FIELD\n",
    "\n",
    "FF = FF_NF\n",
    "condition = \"train\"\n",
    "\n",
    "n_t = 100\n",
    "n_batches = 1024\n",
    "batch_size = 64\n",
    "# this callback logs training information for each batch passed, rather than for each epoch.\n",
    "callbacks = [mn.nets.callbacks.BatchLogger(), mn.nets.callbacks.TrainingPlotter(nn.task, plot_freq=256, plot_trials=8, plot_n_t=n_t)]\n",
    "for i in range(3):\n",
    "    [inputs, targets, init_states] = nn.task.generate(n_timesteps=n_t, batch_size=n_batches*batch_size, condition=condition)\n",
    "    nn.task.FF_matvel = FF\n",
    "    h = nn.fit(x=[inputs, init_states], y=targets, verbose=1, epochs=1, batch_size=batch_size, shuffle=False, callbacks=callbacks)"
   ]
  },
  {
   "cell_type": "code",
   "execution_count": null,
   "metadata": {
    "execution": {
     "iopub.execute_input": "2022-06-22T14:26:28.992176Z",
     "iopub.status.busy": "2022-06-22T14:26:28.992062Z",
     "iopub.status.idle": "2022-06-22T14:26:29.017785Z",
     "shell.execute_reply": "2022-06-22T14:26:29.017489Z"
    }
   },
   "outputs": [],
   "source": [
    "# save model weights\n",
    "weight_file = \"save\" + os.path.sep + \"example_centeroutFF\" + \"_\" + \"weights\"\n",
    "nn.save_weights(weight_file)"
   ]
  },
  {
   "cell_type": "markdown",
   "metadata": {},
   "source": [
    "# LOAD TRAINED NETWORK"
   ]
  },
  {
   "cell_type": "code",
   "execution_count": null,
   "metadata": {
    "execution": {
     "iopub.execute_input": "2022-06-22T14:26:29.019424Z",
     "iopub.status.busy": "2022-06-22T14:26:29.019314Z",
     "iopub.status.idle": "2022-06-22T14:26:29.318063Z",
     "shell.execute_reply": "2022-06-22T14:26:29.317772Z"
    }
   },
   "outputs": [],
   "source": [
    "weight_file = \"save\" + os.path.sep + \"example_centeroutFF\" + \"_\" + \"weights\"\n",
    "nn = create_network()\n",
    "nn.load_weights(weight_file).expect_partial()"
   ]
  },
  {
   "cell_type": "code",
   "execution_count": null,
   "metadata": {
    "execution": {
     "iopub.execute_input": "2022-06-22T14:26:29.319669Z",
     "iopub.status.busy": "2022-06-22T14:26:29.319564Z",
     "iopub.status.idle": "2022-06-22T14:26:29.339430Z",
     "shell.execute_reply": "2022-06-22T14:26:29.339161Z"
    }
   },
   "outputs": [],
   "source": [
    "def hand_to_joints(xy, L1, L2):\n",
    "      j = np.zeros(np.shape(xy))\n",
    "      j[:,:,1] = np.arccos((xy[:,:,0]**2 + xy[:,:,1]**2 - L1**2 - L2**2) / (2*L1*L2))\n",
    "      j[:,:,0] = np.arctan2(xy[:,:,1],xy[:,:,0]) - np.arctan2(L2*np.sin(j[:,:,1]),L1+(L2*np.cos(j[:,:,1])))\n",
    "      return j\n",
    "\n",
    "def plot_simulations(xy, target_xy):\n",
    "  target_x = target_xy[:, -1, 0]\n",
    "  target_y = target_xy[:, -1, 1]\n",
    "  plt.figure()\n",
    "  nmov,ntime,_ = np.shape(xy)\n",
    "  for i in range(nmov):\n",
    "        plt.plot(xy[i,:,0],xy[i,:,1],color=\"b\",linewidth=1.0)\n",
    "  plt.scatter(target_x, target_y)\n",
    "  plt.axis(\"equal\")\n",
    "  plt.xlabel(\"X (m)\")\n",
    "  plt.ylabel(\"Y (m)\")\n",
    "  plt.show()\n",
    "\n",
    "def plot1trial(inputs, results, targets_j, trial=0):\n",
    "    j_results = results['joint position']\n",
    "    m_results = results['muscle state']\n",
    "\n",
    "    plt.figure(figsize=(14, 2.5)).set_tight_layout(True)\n",
    "\n",
    "    plt.subplot(141)\n",
    "    plt.plot(j_results[trial, :, 0]*180/np.pi, label='sho')\n",
    "    plt.plot(j_results[trial, :, 1]*180/np.pi, label='elb')\n",
    "    plt.plot(targets_j[trial, :, 0]*180/np.pi, '--')\n",
    "    plt.plot(targets_j[trial, :, 1]*180/np.pi, '--')\n",
    "    plt.axvline(np.where(inputs[\"inputs\"][trial, :, -1] != 1)[0][0] - nn.task.network.visual_delay, c='grey')\n",
    "    plt.legend()\n",
    "    plt.xlabel('time (ms)')\n",
    "    plt.ylabel('angle (deg)')\n",
    "\n",
    "    plt.subplot(142)\n",
    "    plt.plot(j_results[trial, :, 2], label='sho')\n",
    "    plt.plot(j_results[trial, :, 3], label='elb')\n",
    "    plt.legend()\n",
    "    plt.xlabel('time (ms)')\n",
    "    plt.ylabel('angle velocity (rad/sec)')\n",
    "\n",
    "    plt.subplot(143)\n",
    "    plt.plot(m_results[trial, :, 0, :])\n",
    "    plt.xlabel('time (ms)')\n",
    "    plt.ylabel('activation (a.u.)')\n",
    "    plt.legend([\"PEC\",\"DEL\",\"BRA\",\"TRI\",\"BIC\",\"TR2\"], loc=1)\n",
    "\n",
    "    plt.subplot(144)\n",
    "    plt.plot(m_results[trial, :, -1, :])\n",
    "    plt.xlabel('time (ms)')\n",
    "    plt.ylabel('force (N)')\n",
    "    plt.legend([\"PEC\",\"DEL\",\"BRA\",\"TRI\",\"BIC\",\"TR2\"], loc=1)\n",
    "\n",
    "    plt.show()\n",
    "\n"
   ]
  },
  {
   "cell_type": "code",
   "execution_count": null,
   "metadata": {
    "execution": {
     "iopub.execute_input": "2022-06-22T14:26:29.341016Z",
     "iopub.status.busy": "2022-06-22T14:26:29.340931Z",
     "iopub.status.idle": "2022-06-22T14:26:31.587776Z",
     "shell.execute_reply": "2022-06-22T14:26:31.587471Z"
    },
    "pycharm": {
     "is_executing": true
    }
   },
   "outputs": [],
   "source": [
    "# TEST THE NETWORK ON THE CENTRE-OUT REACHING TASK\n",
    "# IN A NULL FIELD\n",
    "\n",
    "FF = FF_NF\n",
    "condition = \"test\"\n",
    "\n",
    "n_mov_circle = 8 # number of movement directions around the unit circle\n",
    "\n",
    "n_t = 100\n",
    "nn.task.angular_step = 360 / n_mov_circle\n",
    "[inputs, targets, init_states] = nn.task.generate(n_timesteps=n_t, batch_size=n_mov_circle, condition=condition)\n",
    "nn.task.FF_matvel = FF\n",
    "results = nn([inputs, init_states], training=False)\n",
    "\n",
    "plot_simulations(xy=results[\"cartesian position\"], target_xy=targets)\n",
    "\n",
    "L1,L2 = nn.task.network.plant.skeleton.L1, nn.task.network.plant.skeleton.L2\n",
    "targets_j = hand_to_joints(targets, L1, L2)\n",
    "n_mov = np.shape(results[\"joint position\"])[0]\n",
    "for i in range(n_mov):\n",
    "    plot1trial(inputs, results, targets_j, i)"
   ]
  },
  {
   "cell_type": "code",
   "execution_count": null,
   "metadata": {
    "execution": {
     "iopub.execute_input": "2022-06-22T14:26:31.589501Z",
     "iopub.status.busy": "2022-06-22T14:26:31.589382Z",
     "iopub.status.idle": "2022-06-22T14:26:33.663997Z",
     "shell.execute_reply": "2022-06-22T14:26:33.663707Z"
    },
    "pycharm": {
     "is_executing": true
    }
   },
   "outputs": [],
   "source": [
    "# TEST THE NETWORK ON THE CENTRE-OUT REACHING TASK\n",
    "# IN A CCW CURL FIELD\n",
    "\n",
    "FF = FF_CCW\n",
    "condition = \"test\"\n",
    "\n",
    "n_mov_circle = 8\n",
    "\n",
    "n_t = 150\n",
    "nn.task.angular_step = 360 / n_mov_circle\n",
    "[inputs, targets, init_states] = nn.task.generate(n_timesteps=n_t, batch_size=n_mov_circle, condition=condition)\n",
    "nn.task.FF_matvel = FF\n",
    "results = nn([inputs, init_states], training=False)\n",
    "\n",
    "plot_simulations(xy=results[\"cartesian position\"], target_xy=targets)\n",
    "\n",
    "L1,L2 = nn.task.network.plant.skeleton.L1, nn.task.network.plant.skeleton.L2\n",
    "targets_j = hand_to_joints(targets, L1, L2)\n",
    "n_mov = np.shape(results[\"joint position\"])[0]\n",
    "for i in range(n_mov):\n",
    "    plot1trial(inputs, results, targets_j, i)"
   ]
  },
  {
   "cell_type": "code",
   "execution_count": null,
   "metadata": {
    "execution": {
     "iopub.execute_input": "2022-06-22T14:26:33.665721Z",
     "iopub.status.busy": "2022-06-22T14:26:33.665597Z",
     "iopub.status.idle": "2022-06-22T14:27:03.352618Z",
     "shell.execute_reply": "2022-06-22T14:27:03.352282Z"
    }
   },
   "outputs": [],
   "source": [
    "# TRAIN NETWORK on centre-out reaches\n",
    "# IN A CCW FF\n",
    "\n",
    "FF = FF_CCW\n",
    "condition = \"adapt\"\n",
    "\n",
    "n_t = 100\n",
    "n_batches = 256\n",
    "batch_size = 64\n",
    "# this callback logs training information for each batch passed, rather than for each epoch.\n",
    "callbacks = [mn.nets.callbacks.BatchLogger()]\n",
    "for i in range(1):\n",
    "    [inputs, targets, init_states] = nn.task.generate(n_timesteps=n_t, batch_size=batch_size*n_batches, condition=condition)\n",
    "    nn.task.FF_matvel = FF\n",
    "    h = nn.fit(x=[inputs, init_states], y=targets, verbose=1, epochs=1, batch_size=batch_size, shuffle=False, callbacks=callbacks)"
   ]
  },
  {
   "cell_type": "code",
   "execution_count": null,
   "metadata": {
    "execution": {
     "iopub.execute_input": "2022-06-22T14:27:03.354220Z",
     "iopub.status.busy": "2022-06-22T14:27:03.354107Z",
     "iopub.status.idle": "2022-06-22T14:27:05.407605Z",
     "shell.execute_reply": "2022-06-22T14:27:05.407270Z"
    }
   },
   "outputs": [],
   "source": [
    "# TEST THE NETWORK ON THE CENTRE-OUT REACHING TASK\n",
    "# IN A CCW CURL FIELD\n",
    "\n",
    "FF = FF_CCW\n",
    "condition = \"test\"\n",
    "\n",
    "n_mov_circle = 8\n",
    "\n",
    "n_t = 100\n",
    "nn.task.angular_step = 360 / n_mov_circle\n",
    "[inputs, targets, init_states] = nn.task.generate(n_timesteps=n_t, batch_size=n_mov_circle, condition=condition)\n",
    "nn.task.FF_matvel = FF\n",
    "results = nn([inputs, init_states], training=False)\n",
    "\n",
    "plot_simulations(xy=results[\"cartesian position\"], target_xy=targets)\n",
    "\n",
    "L1,L2 = nn.task.network.plant.skeleton.L1, nn.task.network.plant.skeleton.L2\n",
    "targets_j = hand_to_joints(targets, L1, L2)\n",
    "n_mov = np.shape(results[\"joint position\"])[0]\n",
    "for i in range(n_mov):\n",
    "    plot1trial(inputs, results, targets_j, i)"
   ]
  },
  {
   "cell_type": "code",
   "execution_count": null,
   "metadata": {
    "execution": {
     "iopub.execute_input": "2022-06-22T14:27:05.409329Z",
     "iopub.status.busy": "2022-06-22T14:27:05.409210Z",
     "iopub.status.idle": "2022-06-22T14:27:07.685518Z",
     "shell.execute_reply": "2022-06-22T14:27:07.685194Z"
    }
   },
   "outputs": [],
   "source": [
    "# TEST THE NETWORK ON THE CENTRE-OUT REACHING TASK\n",
    "# IN A NULL FIELD\n",
    "\n",
    "FF = FF_NF\n",
    "condition = \"test\"\n",
    "\n",
    "n_mov_circle = 8\n",
    "\n",
    "n_t = 120\n",
    "nn.task.angular_step = 360 / n_mov_circle\n",
    "[inputs, targets, init_states] = nn.task.generate(n_timesteps=n_t, batch_size=n_mov_circle, condition=condition)\n",
    "nn.task.FF_matvel = FF\n",
    "results = nn([inputs, init_states], training=False)\n",
    "\n",
    "plot_simulations(xy=results[\"cartesian position\"], target_xy=targets)\n",
    "\n",
    "L1,L2 = nn.task.network.plant.skeleton.L1, nn.task.network.plant.skeleton.L2\n",
    "targets_j = hand_to_joints(targets, L1, L2)\n",
    "n_mov = np.shape(results[\"joint position\"])[0]\n",
    "for i in range(n_mov):\n",
    "    plot1trial(inputs, results, targets_j, i)"
   ]
  },
  {
   "cell_type": "code",
   "execution_count": null,
   "metadata": {
    "execution": {
     "iopub.execute_input": "2022-06-22T14:27:07.687206Z",
     "iopub.status.busy": "2022-06-22T14:27:07.687086Z",
     "iopub.status.idle": "2022-06-22T14:27:07.704621Z",
     "shell.execute_reply": "2022-06-22T14:27:07.704354Z"
    }
   },
   "outputs": [],
   "source": [
    "now = datetime.now()\n",
    "dt_string = now.strftime(\"%d/%m/%Y %H:%M:%S\")\n",
    "print(\"date and time =\", dt_string)"
   ]
  },
  {
   "cell_type": "code",
   "execution_count": null,
   "metadata": {},
   "outputs": [],
   "source": []
  }
 ],
 "metadata": {
  "kernelspec": {
   "display_name": "Python 3.8.9 64-bit",
   "language": "python",
   "name": "python3"
  },
  "language_info": {
   "codemirror_mode": {
    "name": "ipython",
    "version": 3
   },
   "file_extension": ".py",
   "mimetype": "text/x-python",
   "name": "python",
   "nbconvert_exporter": "python",
   "pygments_lexer": "ipython3",
   "version": "3.8.9"
  },
  "vscode": {
   "interpreter": {
    "hash": "5282cbd55ca81bb58b1b153766c2f0f2c272dbfe37cf5603e33a05dd1929b6ed"
   }
  }
 },
 "nbformat": 4,
 "nbformat_minor": 2
}
