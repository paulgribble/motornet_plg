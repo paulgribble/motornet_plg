{
 "cells": [
  {
   "cell_type": "code",
   "execution_count": 1,
   "metadata": {
    "execution": {
     "iopub.execute_input": "2022-03-31T01:36:07.271433Z",
     "iopub.status.busy": "2022-03-31T01:36:07.270283Z",
     "iopub.status.idle": "2022-03-31T01:36:07.276280Z",
     "shell.execute_reply": "2022-03-31T01:36:07.275896Z"
    }
   },
   "outputs": [
    {
     "name": "stdout",
     "output_type": "stream",
     "text": [
      "date and time = 31/03/2022 16:03:37\n"
     ]
    }
   ],
   "source": [
    "from datetime import datetime\n",
    "now = datetime.now()\n",
    "dt_string = now.strftime(\"%d/%m/%Y %H:%M:%S\")\n",
    "print(\"date and time =\", dt_string)"
   ]
  },
  {
   "cell_type": "code",
   "execution_count": 2,
   "metadata": {
    "execution": {
     "iopub.execute_input": "2022-03-31T01:36:07.277829Z",
     "iopub.status.busy": "2022-03-31T01:36:07.277728Z",
     "iopub.status.idle": "2022-03-31T01:36:07.279899Z",
     "shell.execute_reply": "2022-03-31T01:36:07.279613Z"
    }
   },
   "outputs": [],
   "source": [
    "from os.path import expanduser\n",
    "import sys\n",
    "motornet_home = expanduser(\"~\") + \"/MotorNet\"\n",
    "sys.path.append(motornet_home)"
   ]
  },
  {
   "cell_type": "code",
   "execution_count": 3,
   "metadata": {
    "execution": {
     "iopub.execute_input": "2022-03-31T01:36:07.281417Z",
     "iopub.status.busy": "2022-03-31T01:36:07.281292Z",
     "iopub.status.idle": "2022-03-31T01:36:08.644368Z",
     "shell.execute_reply": "2022-03-31T01:36:08.643951Z"
    }
   },
   "outputs": [],
   "source": [
    "import numpy as np\n",
    "import tensorflow as tf\n",
    "import matplotlib.pyplot as plt\n",
    "import motornet as mn\n",
    "from motornet.plants.muscles import RigidTendonHillMuscleThelen\n",
    "import plg_tasks\n",
    "\n",
    "# Disable all GPUS\n",
    "tf.config.set_visible_devices([], 'GPU')\n",
    "visible_devices = tf.config.get_visible_devices()\n",
    "for device in visible_devices:\n",
    "    assert device.device_type != 'GPU'\n",
    "\n",
    "%load_ext autoreload\n",
    "%autoreload 2"
   ]
  },
  {
   "cell_type": "code",
   "execution_count": 4,
   "metadata": {
    "execution": {
     "iopub.execute_input": "2022-03-31T01:36:08.646260Z",
     "iopub.status.busy": "2022-03-31T01:36:08.646132Z",
     "iopub.status.idle": "2022-03-31T01:36:09.300983Z",
     "shell.execute_reply": "2022-03-31T01:36:09.300569Z"
    }
   },
   "outputs": [
    {
     "name": "stderr",
     "output_type": "stream",
     "text": [
      "2022-03-31 16:03:43.213326: I tensorflow/core/platform/cpu_feature_guard.cc:151] This TensorFlow binary is optimized with oneAPI Deep Neural Network Library (oneDNN) to use the following CPU instructions in performance-critical operations:  AVX2 AVX512F FMA\n",
      "To enable them in other operations, rebuild TensorFlow with the appropriate compiler flags.\n"
     ]
    },
    {
     "ename": "AttributeError",
     "evalue": "Exception encountered when calling layer \"network\" (type GRUNetwork).\n\nin user code:\n\n    File \"/Users/plg/MotorNet/motornet/nets/layers.py\", line 154, in call  *\n        inputs = self.recompute_inputs(inputs, states)\n    File \"/Users/plg/motornet_plg/plg_tasks.py\", line 81, in recompute_inputs  *\n        inputs['endpoint_load'] = tf.transpose(tf.matmul(self.FF_matvel, tf.transpose(cstate[:, 2:4])))  # [2x2] x [2xbatch] = [2xbatch]\n\n    AttributeError: 'CentreOutReachFF' object has no attribute 'FF_matvel'\n\n\nCall arguments received:\n  • inputs={'inputs': 'tf.Tensor(shape=(None, 5), dtype=float32)'}\n  • states=('tf.Tensor(shape=(None, 4), dtype=float32)', 'tf.Tensor(shape=(None, 4), dtype=float32)', 'tf.Tensor(shape=(None, 7, 6), dtype=float32)', 'tf.Tensor(shape=(None, 4, 6), dtype=float32)', 'tf.Tensor(shape=(None, 12, 2), dtype=float32)', 'tf.Tensor(shape=(None, 2, 7), dtype=float32)', 'tf.Tensor(shape=(None, 6), dtype=float32)', 'tf.Tensor(shape=(None, 64), dtype=float32)')\n  • kwargs={'training': 'None'}",
     "output_type": "error",
     "traceback": [
      "\u001b[0;31m---------------------------------------------------------------------------\u001b[0m",
      "\u001b[0;31mAttributeError\u001b[0m                            Traceback (most recent call last)",
      "\u001b[1;32m/Users/plg/motornet_plg/example_centeroutFF.ipynb Cell 4'\u001b[0m in \u001b[0;36m<cell line: 21>\u001b[0;34m()\u001b[0m\n\u001b[1;32m     <a href='vscode-notebook-cell:/Users/plg/motornet_plg/example_centeroutFF.ipynb#ch0000003?line=18'>19</a>\u001b[0m input_dict \u001b[39m=\u001b[39m task\u001b[39m.\u001b[39mget_input_dict_layers()\n\u001b[1;32m     <a href='vscode-notebook-cell:/Users/plg/motornet_plg/example_centeroutFF.ipynb#ch0000003?line=19'>20</a>\u001b[0m state0 \u001b[39m=\u001b[39m task\u001b[39m.\u001b[39mget_initial_state_layers()\n\u001b[0;32m---> <a href='vscode-notebook-cell:/Users/plg/motornet_plg/example_centeroutFF.ipynb#ch0000003?line=20'>21</a>\u001b[0m states_out \u001b[39m=\u001b[39m rnn(input_dict, initial_state\u001b[39m=\u001b[39;49mstate0)\n\u001b[1;32m     <a href='vscode-notebook-cell:/Users/plg/motornet_plg/example_centeroutFF.ipynb#ch0000003?line=22'>23</a>\u001b[0m nn \u001b[39m=\u001b[39m mn\u001b[39m.\u001b[39mnets\u001b[39m.\u001b[39mMotorNetModel(inputs\u001b[39m=\u001b[39m[input_dict, state0], outputs\u001b[39m=\u001b[39mstates_out, name\u001b[39m=\u001b[39m\u001b[39m'\u001b[39m\u001b[39mmodel\u001b[39m\u001b[39m'\u001b[39m, task\u001b[39m=\u001b[39mtask)\n\u001b[1;32m     <a href='vscode-notebook-cell:/Users/plg/motornet_plg/example_centeroutFF.ipynb#ch0000003?line=23'>24</a>\u001b[0m nn\u001b[39m.\u001b[39mcompile(optimizer\u001b[39m=\u001b[39mtf\u001b[39m.\u001b[39moptimizers\u001b[39m.\u001b[39mAdam(clipnorm\u001b[39m=\u001b[39m\u001b[39m1.\u001b[39m), loss\u001b[39m=\u001b[39mtask\u001b[39m.\u001b[39mlosses, loss_weights\u001b[39m=\u001b[39mtask\u001b[39m.\u001b[39mloss_weights)\n",
      "File \u001b[0;32m~/anaconda3/envs/tf/lib/python3.8/site-packages/keras/layers/recurrent.py:726\u001b[0m, in \u001b[0;36mRNN.__call__\u001b[0;34m(self, inputs, initial_state, constants, **kwargs)\u001b[0m\n\u001b[1;32m    <a href='file:///Users/plg/anaconda3/envs/tf/lib/python3.8/site-packages/keras/layers/recurrent.py?line=723'>724</a>\u001b[0m \u001b[39m# Perform the call with temporarily replaced input_spec\u001b[39;00m\n\u001b[1;32m    <a href='file:///Users/plg/anaconda3/envs/tf/lib/python3.8/site-packages/keras/layers/recurrent.py?line=724'>725</a>\u001b[0m \u001b[39mself\u001b[39m\u001b[39m.\u001b[39minput_spec \u001b[39m=\u001b[39m full_input_spec\n\u001b[0;32m--> <a href='file:///Users/plg/anaconda3/envs/tf/lib/python3.8/site-packages/keras/layers/recurrent.py?line=725'>726</a>\u001b[0m output \u001b[39m=\u001b[39m \u001b[39msuper\u001b[39;49m(RNN, \u001b[39mself\u001b[39;49m)\u001b[39m.\u001b[39;49m\u001b[39m__call__\u001b[39;49m(full_input, \u001b[39m*\u001b[39;49m\u001b[39m*\u001b[39;49mkwargs)\n\u001b[1;32m    <a href='file:///Users/plg/anaconda3/envs/tf/lib/python3.8/site-packages/keras/layers/recurrent.py?line=726'>727</a>\u001b[0m \u001b[39m# Remove the additional_specs from input spec and keep the rest. It is\u001b[39;00m\n\u001b[1;32m    <a href='file:///Users/plg/anaconda3/envs/tf/lib/python3.8/site-packages/keras/layers/recurrent.py?line=727'>728</a>\u001b[0m \u001b[39m# important to keep since the input spec was populated by build(), and\u001b[39;00m\n\u001b[1;32m    <a href='file:///Users/plg/anaconda3/envs/tf/lib/python3.8/site-packages/keras/layers/recurrent.py?line=728'>729</a>\u001b[0m \u001b[39m# will be reused in the stateful=True.\u001b[39;00m\n\u001b[1;32m    <a href='file:///Users/plg/anaconda3/envs/tf/lib/python3.8/site-packages/keras/layers/recurrent.py?line=729'>730</a>\u001b[0m \u001b[39mself\u001b[39m\u001b[39m.\u001b[39minput_spec \u001b[39m=\u001b[39m \u001b[39mself\u001b[39m\u001b[39m.\u001b[39minput_spec[:\u001b[39m-\u001b[39m\u001b[39mlen\u001b[39m(additional_specs)]\n",
      "File \u001b[0;32m~/anaconda3/envs/tf/lib/python3.8/site-packages/keras/utils/traceback_utils.py:67\u001b[0m, in \u001b[0;36mfilter_traceback.<locals>.error_handler\u001b[0;34m(*args, **kwargs)\u001b[0m\n\u001b[1;32m     <a href='file:///Users/plg/anaconda3/envs/tf/lib/python3.8/site-packages/keras/utils/traceback_utils.py?line=64'>65</a>\u001b[0m \u001b[39mexcept\u001b[39;00m \u001b[39mException\u001b[39;00m \u001b[39mas\u001b[39;00m e:  \u001b[39m# pylint: disable=broad-except\u001b[39;00m\n\u001b[1;32m     <a href='file:///Users/plg/anaconda3/envs/tf/lib/python3.8/site-packages/keras/utils/traceback_utils.py?line=65'>66</a>\u001b[0m   filtered_tb \u001b[39m=\u001b[39m _process_traceback_frames(e\u001b[39m.\u001b[39m__traceback__)\n\u001b[0;32m---> <a href='file:///Users/plg/anaconda3/envs/tf/lib/python3.8/site-packages/keras/utils/traceback_utils.py?line=66'>67</a>\u001b[0m   \u001b[39mraise\u001b[39;00m e\u001b[39m.\u001b[39mwith_traceback(filtered_tb) \u001b[39mfrom\u001b[39;00m \u001b[39mNone\u001b[39m\n\u001b[1;32m     <a href='file:///Users/plg/anaconda3/envs/tf/lib/python3.8/site-packages/keras/utils/traceback_utils.py?line=67'>68</a>\u001b[0m \u001b[39mfinally\u001b[39;00m:\n\u001b[1;32m     <a href='file:///Users/plg/anaconda3/envs/tf/lib/python3.8/site-packages/keras/utils/traceback_utils.py?line=68'>69</a>\u001b[0m   \u001b[39mdel\u001b[39;00m filtered_tb\n",
      "File \u001b[0;32m~/anaconda3/envs/tf/lib/python3.8/site-packages/keras/utils/traceback_utils.py:67\u001b[0m, in \u001b[0;36mfilter_traceback.<locals>.error_handler\u001b[0;34m(*args, **kwargs)\u001b[0m\n\u001b[1;32m     <a href='file:///Users/plg/anaconda3/envs/tf/lib/python3.8/site-packages/keras/utils/traceback_utils.py?line=64'>65</a>\u001b[0m \u001b[39mexcept\u001b[39;00m \u001b[39mException\u001b[39;00m \u001b[39mas\u001b[39;00m e:  \u001b[39m# pylint: disable=broad-except\u001b[39;00m\n\u001b[1;32m     <a href='file:///Users/plg/anaconda3/envs/tf/lib/python3.8/site-packages/keras/utils/traceback_utils.py?line=65'>66</a>\u001b[0m   filtered_tb \u001b[39m=\u001b[39m _process_traceback_frames(e\u001b[39m.\u001b[39m__traceback__)\n\u001b[0;32m---> <a href='file:///Users/plg/anaconda3/envs/tf/lib/python3.8/site-packages/keras/utils/traceback_utils.py?line=66'>67</a>\u001b[0m   \u001b[39mraise\u001b[39;00m e\u001b[39m.\u001b[39mwith_traceback(filtered_tb) \u001b[39mfrom\u001b[39;00m \u001b[39mNone\u001b[39m\n\u001b[1;32m     <a href='file:///Users/plg/anaconda3/envs/tf/lib/python3.8/site-packages/keras/utils/traceback_utils.py?line=67'>68</a>\u001b[0m \u001b[39mfinally\u001b[39;00m:\n\u001b[1;32m     <a href='file:///Users/plg/anaconda3/envs/tf/lib/python3.8/site-packages/keras/utils/traceback_utils.py?line=68'>69</a>\u001b[0m   \u001b[39mdel\u001b[39;00m filtered_tb\n",
      "\u001b[0;31mAttributeError\u001b[0m: Exception encountered when calling layer \"network\" (type GRUNetwork).\n\nin user code:\n\n    File \"/Users/plg/MotorNet/motornet/nets/layers.py\", line 154, in call  *\n        inputs = self.recompute_inputs(inputs, states)\n    File \"/Users/plg/motornet_plg/plg_tasks.py\", line 81, in recompute_inputs  *\n        inputs['endpoint_load'] = tf.transpose(tf.matmul(self.FF_matvel, tf.transpose(cstate[:, 2:4])))  # [2x2] x [2xbatch] = [2xbatch]\n\n    AttributeError: 'CentreOutReachFF' object has no attribute 'FF_matvel'\n\n\nCall arguments received:\n  • inputs={'inputs': 'tf.Tensor(shape=(None, 5), dtype=float32)'}\n  • states=('tf.Tensor(shape=(None, 4), dtype=float32)', 'tf.Tensor(shape=(None, 4), dtype=float32)', 'tf.Tensor(shape=(None, 7, 6), dtype=float32)', 'tf.Tensor(shape=(None, 4, 6), dtype=float32)', 'tf.Tensor(shape=(None, 12, 2), dtype=float32)', 'tf.Tensor(shape=(None, 2, 7), dtype=float32)', 'tf.Tensor(shape=(None, 6), dtype=float32)', 'tf.Tensor(shape=(None, 64), dtype=float32)')\n  • kwargs={'training': 'None'}"
     ]
    }
   ],
   "source": [
    "# SET UP PLANT\n",
    "plant = mn.plants.RigidTendonArm26(muscle_type=RigidTendonHillMuscleThelen(), visual_delay=0.07, proprioceptive_delay=0.02)\n",
    "\n",
    "# SET UP NETWORK\n",
    "n_units = 64\n",
    "network = mn.nets.layers.GRUNetwork(plant=plant, n_units=n_units, kernel_regularizer=1e-7, name='network', recurrent_regularizer=1e-5)\n",
    "\n",
    "# SET UP TASK\n",
    "start_joint_position = [0.785, 1.570] # [45,90] deg\n",
    "go_cue_range = [.100, .400]\n",
    "task = plg_tasks.CentreOutReachFF(network=network, start_joint_position=start_joint_position, go_cue_range=go_cue_range)\n",
    "task.network.do_recompute_inputs = True\n",
    "task.network.recompute_inputs = task.recompute_inputs\n",
    "#task.loss_weights['cartesian position'] = 1.0\n",
    "#task.loss_weights['muscle state'] = 5.0\n",
    "\n",
    "rnn = tf.keras.layers.RNN(cell=network, return_sequences=True, name='RNN')\n",
    "\n",
    "input_dict = task.get_input_dict_layers()\n",
    "state0 = task.get_initial_state_layers()\n",
    "states_out = rnn(input_dict, initial_state=state0)\n",
    "\n",
    "nn = mn.nets.MotorNetModel(inputs=[input_dict, state0], outputs=states_out, name='model', task=task)\n",
    "nn.compile(optimizer=tf.optimizers.Adam(clipnorm=1.), loss=task.losses, loss_weights=task.loss_weights)"
   ]
  },
  {
   "cell_type": "code",
   "execution_count": null,
   "metadata": {
    "execution": {
     "iopub.execute_input": "2022-03-31T01:36:09.302900Z",
     "iopub.status.busy": "2022-03-31T01:36:09.302773Z",
     "iopub.status.idle": "2022-03-31T01:36:09.321651Z",
     "shell.execute_reply": "2022-03-31T01:36:09.321305Z"
    }
   },
   "outputs": [],
   "source": [
    "nn.task.get_losses()\n"
   ]
  },
  {
   "cell_type": "code",
   "execution_count": null,
   "metadata": {
    "execution": {
     "iopub.execute_input": "2022-03-31T01:36:09.323155Z",
     "iopub.status.busy": "2022-03-31T01:36:09.323031Z",
     "iopub.status.idle": "2022-03-31T01:36:09.340154Z",
     "shell.execute_reply": "2022-03-31T01:36:09.339774Z"
    }
   },
   "outputs": [],
   "source": [
    "# SET UP FFs\n",
    "b = 8\n",
    "FF_NF  = tf.convert_to_tensor(np.array([[0, 0],[ 0,0]]), dtype=tf.float32)\n",
    "FF_CCW = tf.convert_to_tensor(np.array([[0,-b],[ b,0]]), dtype=tf.float32)\n",
    "FF_CW  = tf.convert_to_tensor(np.array([[0, b],[-b,0]]), dtype=tf.float32)\n"
   ]
  },
  {
   "cell_type": "code",
   "execution_count": null,
   "metadata": {
    "execution": {
     "iopub.execute_input": "2022-03-31T01:36:09.341725Z",
     "iopub.status.busy": "2022-03-31T01:36:09.341605Z",
     "iopub.status.idle": "2022-03-31T01:49:20.550200Z",
     "shell.execute_reply": "2022-03-31T01:49:20.549895Z"
    },
    "pycharm": {
     "is_executing": true
    }
   },
   "outputs": [],
   "source": [
    "# TRAIN NETWORK on point to point reaches between random targets in the arm's workspace\n",
    "# IN A NULL FIELD\n",
    "\n",
    "FF = FF_NF\n",
    "\n",
    "n_t = 100\n",
    "n_batches = 1024\n",
    "batch_size = 32\n",
    "# this callback logs training information for each batch passed, rather than for each epoch.\n",
    "callbacks = [mn.nets.callbacks.BatchLogger(), mn.nets.callbacks.TrainingPlotter(task, plot_freq=256, plot_trials=3, plot_n_t=n_t)]\n",
    "for i in range(5):\n",
    "    [inputs, targets, init_states] = nn.task.generate(n_timesteps=n_t, batch_size=n_batches * batch_size)\n",
    "    nn.task.FF_matvel = FF\n",
    "    h = nn.fit(x=[inputs, init_states], y=targets, verbose=1, epochs=1, batch_size=batch_size, shuffle=False, callbacks=callbacks)"
   ]
  },
  {
   "cell_type": "code",
   "execution_count": null,
   "metadata": {
    "execution": {
     "iopub.execute_input": "2022-03-31T01:49:20.551757Z",
     "iopub.status.busy": "2022-03-31T01:49:20.551626Z",
     "iopub.status.idle": "2022-03-31T01:49:20.573707Z",
     "shell.execute_reply": "2022-03-31T01:49:20.573313Z"
    }
   },
   "outputs": [],
   "source": [
    "def hand_to_joints(xy, L1, L2):\n",
    "      j = np.zeros(np.shape(xy))\n",
    "      j[:,:,1] = np.arccos((xy[:,:,0]**2 + xy[:,:,1]**2 - L1**2 - L2**2) / (2*L1*L2))\n",
    "      j[:,:,0] = np.arctan2(xy[:,:,1],xy[:,:,0]) - np.arctan2(L2*np.sin(j[:,:,1]),L1+(L2*np.cos(j[:,:,1])))\n",
    "      return j\n",
    "\n",
    "def plot_simulations(xy, target_xy):\n",
    "  target_x = target_xy[:, -1, 0]\n",
    "  target_y = target_xy[:, -1, 1]\n",
    "  plt.figure()\n",
    "  plotor(xy)\n",
    "  plt.scatter(target_x, target_y)\n",
    "  plt.xlabel(\"X (m)\")\n",
    "  plt.ylabel(\"Y (m)\")\n",
    "  plt.show()\n",
    "\n",
    "def plot1trial(inputs, results, targets_j, trial=0):\n",
    "    j_results = results['joint position']\n",
    "    m_results = results['muscle state']\n",
    "\n",
    "    plt.figure(figsize=(14, 2.5)).set_tight_layout(True)\n",
    "\n",
    "    plt.subplot(141)\n",
    "    plt.plot(j_results[trial, :, 0]*180/np.pi, label='sho')\n",
    "    plt.plot(j_results[trial, :, 1]*180/np.pi, label='elb')\n",
    "    plt.plot(targets_j[trial, :, 0]*180/np.pi, '--')\n",
    "    plt.plot(targets_j[trial, :, 1]*180/np.pi, '--')\n",
    "    plt.axvline(np.where(inputs[\"inputs\"][trial, :, -1] != 1)[0][0] - network.visual_delay, c='grey')\n",
    "    plt.legend()\n",
    "    plt.xlabel('time (ms)')\n",
    "    plt.ylabel('angle (deg)')\n",
    "\n",
    "    plt.subplot(142)\n",
    "    plt.plot(j_results[trial, :, 2], label='sho')\n",
    "    plt.plot(j_results[trial, :, 3], label='elb')\n",
    "    plt.legend()\n",
    "    plt.xlabel('time (ms)')\n",
    "    plt.ylabel('angle velocity (rad/sec)')\n",
    "\n",
    "    plt.subplot(143)\n",
    "    plt.plot(m_results[trial, :, 0, :])\n",
    "    plt.xlabel('time (ms)')\n",
    "    plt.ylabel('activation (a.u.)')\n",
    "    plt.legend([\"PEC\",\"DEL\",\"BRA\",\"TRI\",\"BIC\",\"TR2\"], loc=1)\n",
    "\n",
    "    plt.subplot(144)\n",
    "    plt.plot(m_results[trial, :, -1, :])\n",
    "    plt.xlabel('time (ms)')\n",
    "    plt.ylabel('force (N)')\n",
    "    plt.legend([\"PEC\",\"DEL\",\"BRA\",\"TRI\",\"BIC\",\"TR2\"], loc=1)\n",
    "\n",
    "    plt.show()\n",
    "\n",
    "plotor = mn.utils.plotor.plot_pos_over_time\n"
   ]
  },
  {
   "cell_type": "code",
   "execution_count": null,
   "metadata": {
    "execution": {
     "iopub.execute_input": "2022-03-31T01:49:20.575131Z",
     "iopub.status.busy": "2022-03-31T01:49:20.575031Z",
     "iopub.status.idle": "2022-03-31T01:49:25.588718Z",
     "shell.execute_reply": "2022-03-31T01:49:25.588323Z"
    },
    "pycharm": {
     "is_executing": true
    }
   },
   "outputs": [],
   "source": [
    "# TEST THE NETWORK ON THE CENTRE-OUT REACHING TASK\n",
    "# IN A NULL FIELD\n",
    "\n",
    "FF = FF_NF\n",
    "\n",
    "n_t = 100\n",
    "nn.task.angle_step = 45\n",
    "[inputs, targets, init_states] = nn.task.generate(n_timesteps=n_t, batch_size=8, validation=True)\n",
    "nn.task.FF_matvel = FF\n",
    "results = nn([inputs, init_states], training=False)\n",
    "\n",
    "plot_simulations(xy=results[\"cartesian position\"], target_xy=targets)\n",
    "\n",
    "L1,L2 = nn.task.network.plant.skeleton.L1, nn.task.network.plant.skeleton.L2\n",
    "targets_j = hand_to_joints(targets, L1, L2)\n",
    "n_mov = np.shape(results[\"joint position\"])[0]\n",
    "for i in range(n_mov):\n",
    "    plot1trial(inputs, results, targets_j, i)"
   ]
  },
  {
   "cell_type": "code",
   "execution_count": null,
   "metadata": {
    "execution": {
     "iopub.execute_input": "2022-03-31T01:49:25.590339Z",
     "iopub.status.busy": "2022-03-31T01:49:25.590212Z",
     "iopub.status.idle": "2022-03-31T01:49:30.756707Z",
     "shell.execute_reply": "2022-03-31T01:49:30.756313Z"
    },
    "pycharm": {
     "is_executing": true
    }
   },
   "outputs": [],
   "source": [
    "# TEST THE NETWORK ON THE CENTRE-OUT REACHING TASK\n",
    "# IN A CCW CURL FIELD\n",
    "\n",
    "FF = FF_CCW\n",
    "\n",
    "n_t = 100\n",
    "nn.task.angle_step = 45\n",
    "[inputs, targets, init_states] = nn.task.generate(n_timesteps=n_t, batch_size=8, validation=True)\n",
    "nn.task.FF_matvel = FF\n",
    "results = nn([inputs, init_states], training=False)\n",
    "\n",
    "plot_simulations(xy=results[\"cartesian position\"], target_xy=targets)\n",
    "\n",
    "L1,L2 = nn.task.network.plant.skeleton.L1, nn.task.network.plant.skeleton.L2\n",
    "targets_j = hand_to_joints(targets, L1, L2)\n",
    "n_mov = np.shape(results[\"joint position\"])[0]\n",
    "for i in range(n_mov):\n",
    "    plot1trial(inputs, results, targets_j, i)"
   ]
  },
  {
   "cell_type": "code",
   "execution_count": null,
   "metadata": {
    "execution": {
     "iopub.execute_input": "2022-03-31T01:49:30.758365Z",
     "iopub.status.busy": "2022-03-31T01:49:30.758238Z",
     "iopub.status.idle": "2022-03-31T01:49:35.842585Z",
     "shell.execute_reply": "2022-03-31T01:49:35.842165Z"
    }
   },
   "outputs": [],
   "source": [
    "# TEST THE NETWORK ON THE CENTRE-OUT REACHING TASK\n",
    "# IN A CW CURL FIELD\n",
    "\n",
    "FF = FF_CW\n",
    "\n",
    "nn.task.angle_step = 45\n",
    "n_t = 100\n",
    "[inputs, targets, init_states] = nn.task.generate(n_timesteps=n_t, batch_size=8, validation=True)\n",
    "nn.task.FF_matvel = FF\n",
    "results = nn([inputs, init_states], training=False)\n",
    "\n",
    "plot_simulations(xy=results[\"cartesian position\"], target_xy=targets)\n",
    "\n",
    "L1,L2 = nn.task.network.plant.skeleton.L1, nn.task.network.plant.skeleton.L2\n",
    "targets_j = hand_to_joints(targets, L1, L2)\n",
    "n_mov = np.shape(results[\"joint position\"])[0]\n",
    "for i in range(n_mov):\n",
    "    plot1trial(inputs, results, targets_j, i)"
   ]
  },
  {
   "cell_type": "code",
   "execution_count": null,
   "metadata": {
    "execution": {
     "iopub.execute_input": "2022-03-31T01:49:35.844291Z",
     "iopub.status.busy": "2022-03-31T01:49:35.844165Z",
     "iopub.status.idle": "2022-03-31T02:02:43.049831Z",
     "shell.execute_reply": "2022-03-31T02:02:43.049487Z"
    }
   },
   "outputs": [],
   "source": [
    "# TRAIN NETWORK IN A CCW CURL FIELD\n",
    "\n",
    "FF = FF_CCW\n",
    "\n",
    "n_t = 100\n",
    "n_batches = 1024\n",
    "batch_size = 8\n",
    "# this callback logs training information for each batch passed, rather than for each epoch.\n",
    "callbacks = [mn.nets.callbacks.BatchLogger()]\n",
    "for i in range(5):\n",
    "    [inputs, targets, init_states] = nn.task.generate(n_timesteps=n_t, batch_size=n_batches * batch_size, validation=True)\n",
    "    nn.task.FF_matvel = FF\n",
    "    h = nn.fit(x=[inputs, init_states], y=targets, verbose=1, epochs=1, batch_size=batch_size, shuffle=False, callbacks=callbacks)"
   ]
  },
  {
   "cell_type": "code",
   "execution_count": null,
   "metadata": {
    "execution": {
     "iopub.execute_input": "2022-03-31T02:02:43.051404Z",
     "iopub.status.busy": "2022-03-31T02:02:43.051274Z",
     "iopub.status.idle": "2022-03-31T02:02:48.192094Z",
     "shell.execute_reply": "2022-03-31T02:02:48.191702Z"
    }
   },
   "outputs": [],
   "source": [
    "# TEST THE NETWORK ON THE CENTRE-OUT REACHING TASK\n",
    "# IN A CCW CURL FIELD\n",
    "\n",
    "FF = FF_CCW\n",
    "\n",
    "n_t = 100\n",
    "nn.task.angle_step = 45\n",
    "[inputs, targets, init_states] = nn.task.generate(n_timesteps=n_t, batch_size=8, validation=True)\n",
    "nn.task.FF_matvel = FF\n",
    "results = nn([inputs, init_states], training=False)\n",
    "\n",
    "plot_simulations(xy=results[\"cartesian position\"], target_xy=targets)\n",
    "\n",
    "L1,L2 = nn.task.network.plant.skeleton.L1, nn.task.network.plant.skeleton.L2\n",
    "targets_j = hand_to_joints(targets, L1, L2)\n",
    "n_mov = np.shape(results[\"joint position\"])[0]\n",
    "for i in range(n_mov):\n",
    "    plot1trial(inputs, results, targets_j, i)"
   ]
  },
  {
   "cell_type": "code",
   "execution_count": null,
   "metadata": {
    "execution": {
     "iopub.execute_input": "2022-03-31T02:02:48.193888Z",
     "iopub.status.busy": "2022-03-31T02:02:48.193758Z",
     "iopub.status.idle": "2022-03-31T02:02:53.277997Z",
     "shell.execute_reply": "2022-03-31T02:02:53.277594Z"
    }
   },
   "outputs": [],
   "source": [
    "# TEST THE NETWORK ON THE CENTRE-OUT REACHING TASK\n",
    "# IN A NULL FIELD\n",
    "\n",
    "FF = FF_NF\n",
    "\n",
    "n_t = 100\n",
    "nn.task.angle_step = 45\n",
    "[inputs, targets, init_states] = nn.task.generate(n_timesteps=n_t, batch_size=8, validation=True)\n",
    "nn.task.FF_matvel = FF\n",
    "results = nn([inputs, init_states], training=False)\n",
    "\n",
    "plot_simulations(xy=results[\"cartesian position\"], target_xy=targets)\n",
    "\n",
    "L1,L2 = nn.task.network.plant.skeleton.L1, nn.task.network.plant.skeleton.L2\n",
    "targets_j = hand_to_joints(targets, L1, L2)\n",
    "n_mov = np.shape(results[\"joint position\"])[0]\n",
    "for i in range(n_mov):\n",
    "    plot1trial(inputs, results, targets_j, i)"
   ]
  },
  {
   "cell_type": "code",
   "execution_count": null,
   "metadata": {
    "execution": {
     "iopub.execute_input": "2022-03-31T02:02:53.279579Z",
     "iopub.status.busy": "2022-03-31T02:02:53.279453Z",
     "iopub.status.idle": "2022-03-31T02:02:53.296336Z",
     "shell.execute_reply": "2022-03-31T02:02:53.296074Z"
    }
   },
   "outputs": [],
   "source": [
    "now = datetime.now()\n",
    "dt_string = now.strftime(\"%d/%m/%Y %H:%M:%S\")\n",
    "print(\"date and time =\", dt_string)"
   ]
  },
  {
   "cell_type": "code",
   "execution_count": null,
   "metadata": {},
   "outputs": [],
   "source": []
  }
 ],
 "metadata": {
  "interpreter": {
   "hash": "38c7053660fa7d1dc5c014a0647ab7634512694b7c227a41b193c200ab60ecd9"
  },
  "kernelspec": {
   "display_name": "Python 3 (ipykernel)",
   "language": "python",
   "name": "python3"
  },
  "language_info": {
   "codemirror_mode": {
    "name": "ipython",
    "version": 3
   },
   "file_extension": ".py",
   "mimetype": "text/x-python",
   "name": "python",
   "nbconvert_exporter": "python",
   "pygments_lexer": "ipython3",
   "version": "3.8.12"
  }
 },
 "nbformat": 4,
 "nbformat_minor": 2
}
