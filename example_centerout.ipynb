{
 "cells": [
  {
   "cell_type": "code",
   "execution_count": null,
   "metadata": {
    "execution": {
     "iopub.execute_input": "2022-03-28T13:09:52.653833Z",
     "iopub.status.busy": "2022-03-28T13:09:52.653637Z",
     "iopub.status.idle": "2022-03-28T13:09:52.660274Z",
     "shell.execute_reply": "2022-03-28T13:09:52.659892Z"
    }
   },
   "outputs": [],
   "source": [
    "from datetime import datetime\n",
    "now = datetime.now()\n",
    "dt_string = now.strftime(\"%d/%m/%Y %H:%M:%S\")\n",
    "print(\"date and time =\", dt_string)"
   ]
  },
  {
   "cell_type": "code",
   "execution_count": null,
   "metadata": {
    "execution": {
     "iopub.execute_input": "2022-03-28T13:09:52.663818Z",
     "iopub.status.busy": "2022-03-28T13:09:52.663645Z",
     "iopub.status.idle": "2022-03-28T13:09:52.666247Z",
     "shell.execute_reply": "2022-03-28T13:09:52.665843Z"
    }
   },
   "outputs": [],
   "source": [
    "from os.path import expanduser\n",
    "import sys\n",
    "motornet_home = expanduser(\"~\") + \"/MotorNet\"\n",
    "sys.path.append(motornet_home)"
   ]
  },
  {
   "cell_type": "code",
   "execution_count": null,
   "metadata": {
    "execution": {
     "iopub.execute_input": "2022-03-28T13:09:52.668589Z",
     "iopub.status.busy": "2022-03-28T13:09:52.668434Z",
     "iopub.status.idle": "2022-03-28T13:09:58.063747Z",
     "shell.execute_reply": "2022-03-28T13:09:58.063304Z"
    }
   },
   "outputs": [],
   "source": [
    "import numpy as np\n",
    "import tensorflow as tf\n",
    "import matplotlib.pyplot as plt\n",
    "import motornet as mn\n",
    "from motornet.plants.muscles import RigidTendonHillMuscleThelen\n",
    "import plg_tasks\n",
    "\n",
    "# Disable all GPUS\n",
    "tf.config.set_visible_devices([], 'GPU')\n",
    "visible_devices = tf.config.get_visible_devices()\n",
    "for device in visible_devices:\n",
    "    assert device.device_type != 'GPU'\n",
    "\n",
    "%load_ext autoreload\n",
    "%autoreload 2"
   ]
  },
  {
   "cell_type": "code",
   "execution_count": null,
   "metadata": {
    "execution": {
     "iopub.execute_input": "2022-03-28T13:09:58.066604Z",
     "iopub.status.busy": "2022-03-28T13:09:58.066438Z",
     "iopub.status.idle": "2022-03-28T13:09:58.910513Z",
     "shell.execute_reply": "2022-03-28T13:09:58.910062Z"
    }
   },
   "outputs": [],
   "source": [
    "# SET UP PLANT\n",
    "plant = mn.plants.RigidTendonArm26(muscle_type=RigidTendonHillMuscleThelen(), visual_delay=0.07, proprioceptive_delay=0.02)\n",
    "\n",
    "# SET UP NETWORK\n",
    "n_units = 64\n",
    "network = mn.nets.layers.GRUNetwork(plant=plant, n_units=n_units, kernel_regularizer=1e-7, name='network', recurrent_regularizer=1e-5)\n",
    "\n",
    "# SET UP TASK\n",
    "start_joint_position = [0.785, 1.570] # [45,90] deg\n",
    "go_cue_range = [.100, .400]\n",
    "task = plg_tasks.CentreOutReachFF(network=network, start_joint_position=start_joint_position, go_cue_range=go_cue_range)\n",
    "task.network.do_recompute_inputs = True\n",
    "task.network.recompute_inputs = task.recompute_inputs\n",
    "#task.loss_weights['cartesian position'] = 1.0\n",
    "#task.loss_weights['muscle state'] = 5.0\n",
    "\n",
    "rnn = tf.keras.layers.RNN(cell=network, return_sequences=True, name='RNN')\n",
    "\n",
    "input_dict = task.get_input_dict_layers()\n",
    "state0 = task.get_initial_state_layers()\n",
    "states_out = rnn(input_dict, initial_state=state0)\n",
    "\n",
    "nn = mn.nets.MotorNetModel(inputs=[input_dict, state0], outputs=states_out, name='model', task=task)\n",
    "nn.compile(optimizer=tf.optimizers.Adam(clipnorm=1.), loss=task.losses, loss_weights=task.loss_weights)"
   ]
  },
  {
   "cell_type": "code",
   "execution_count": null,
   "metadata": {
    "execution": {
     "iopub.execute_input": "2022-03-28T13:09:58.913224Z",
     "iopub.status.busy": "2022-03-28T13:09:58.913053Z",
     "iopub.status.idle": "2022-03-28T13:09:58.947700Z",
     "shell.execute_reply": "2022-03-28T13:09:58.947259Z"
    }
   },
   "outputs": [],
   "source": [
    "task.get_losses()\n"
   ]
  },
  {
   "cell_type": "code",
   "execution_count": null,
   "metadata": {
    "execution": {
     "iopub.execute_input": "2022-03-28T13:09:58.950053Z",
     "iopub.status.busy": "2022-03-28T13:09:58.949889Z",
     "iopub.status.idle": "2022-03-28T13:45:28.764368Z",
     "shell.execute_reply": "2022-03-28T13:45:28.763955Z"
    },
    "pycharm": {
     "is_executing": true
    }
   },
   "outputs": [],
   "source": [
    "# TRAIN THE NETWORK\n",
    "n_t = 150\n",
    "n_batches = 1024\n",
    "batch_size = 32\n",
    "# this callback logs training information for each batch passed, rather than for each epoch.\n",
    "callbacks = [mn.nets.callbacks.BatchLogger(), mn.nets.callbacks.TrainingPlotter(task,plot_freq=256,plot_trials=3,plot_n_t=n_t)]\n",
    "for i in range(5):\n",
    "    [inputs, targets, init_states] = nn.task.generate(n_timesteps=n_t, batch_size=n_batches * batch_size)\n",
    "    h = nn.fit(x=[inputs, init_states], y=targets, verbose=1, epochs=1, batch_size=batch_size, shuffle=False, callbacks=callbacks)"
   ]
  },
  {
   "cell_type": "code",
   "execution_count": null,
   "metadata": {
    "execution": {
     "iopub.execute_input": "2022-03-28T13:45:28.766945Z",
     "iopub.status.busy": "2022-03-28T13:45:28.766741Z",
     "iopub.status.idle": "2022-03-28T13:45:30.499926Z",
     "shell.execute_reply": "2022-03-28T13:45:30.499440Z"
    },
    "pycharm": {
     "is_executing": true
    }
   },
   "outputs": [],
   "source": [
    "# TEST THE NETWORK ON THE CENTRE-OUT REACHING TASK\n",
    "task.angle_step = 45\n",
    "[inputs, targets, init_states] = nn.task.generate(n_timesteps=n_t, batch_size=1, validation=True)\n",
    "results = nn([inputs, init_states], training=False)"
   ]
  },
  {
   "cell_type": "code",
   "execution_count": null,
   "metadata": {
    "execution": {
     "iopub.execute_input": "2022-03-28T13:45:30.502636Z",
     "iopub.status.busy": "2022-03-28T13:45:30.502470Z",
     "iopub.status.idle": "2022-03-28T13:45:30.541279Z",
     "shell.execute_reply": "2022-03-28T13:45:30.540819Z"
    },
    "pycharm": {
     "is_executing": true
    }
   },
   "outputs": [],
   "source": [
    "def hand_to_joints(xy, L1, L2):\n",
    "      j = np.zeros(np.shape(xy))\n",
    "      j[:,:,1] = np.arccos((xy[:,:,0]**2 + xy[:,:,1]**2 - L1**2 - L2**2) / (2*L1*L2))\n",
    "      j[:,:,0] = np.arctan2(xy[:,:,1],xy[:,:,0]) - np.arctan2(L2*np.sin(j[:,:,1]),L1+(L2*np.cos(j[:,:,1])))\n",
    "      return j\n",
    "\n",
    "def plot_simulations(xy, target_xy):\n",
    "  target_x = target_xy[:, -1, 0]\n",
    "  target_y = target_xy[:, -1, 1]\n",
    "\n",
    "  plt.figure()\n",
    "  plotor(xy)\n",
    "  plt.scatter(target_x, target_y)\n",
    "  plt.xlabel(\"X (m)\")\n",
    "  plt.ylabel(\"Y (m)\")\n",
    "  plt.show()\n",
    "\n",
    "def plot1trial(inputs, results, targets_j, trial=0):\n",
    "    j_results = results['joint position']\n",
    "    m_results = results['muscle state']\n",
    "\n",
    "    plt.figure(figsize=(14, 2.5)).set_tight_layout(True)\n",
    "\n",
    "    plt.subplot(141)\n",
    "    plt.plot(j_results[trial, :, 0]*180/np.pi, label='sho')\n",
    "    plt.plot(j_results[trial, :, 1]*180/np.pi, label='elb')\n",
    "    plt.plot(targets_j[trial, :, 0]*180/np.pi, '--')\n",
    "    plt.plot(targets_j[trial, :, 1]*180/np.pi, '--')\n",
    "    plt.axvline(np.where(inputs[\"inputs\"][trial, :, -1] != 1)[0][0] - network.visual_delay, c='grey')\n",
    "    plt.legend()\n",
    "    plt.xlabel('time (ms)')\n",
    "    plt.ylabel('angle (deg)')\n",
    "\n",
    "    plt.subplot(142)\n",
    "    plt.plot(j_results[trial, :, 2], label='sho')\n",
    "    plt.plot(j_results[trial, :, 3], label='elb')\n",
    "    plt.legend()\n",
    "    plt.xlabel('time (ms)')\n",
    "    plt.ylabel('angle velocity (rad/sec)')\n",
    "\n",
    "    plt.subplot(143)\n",
    "    plt.plot(m_results[trial, :, 0, :])\n",
    "    plt.xlabel('time (ms)')\n",
    "    plt.ylabel('activation (a.u.)')\n",
    "    plt.legend([\"PEC\",\"DEL\",\"BRA\",\"TRI\",\"BIC\",\"TR2\"], loc=1)\n",
    "\n",
    "    plt.subplot(144)\n",
    "    plt.plot(m_results[trial, :, -1, :])\n",
    "    plt.xlabel('time (ms)')\n",
    "    plt.ylabel('force (N)')\n",
    "    plt.legend([\"PEC\",\"DEL\",\"BRA\",\"TRI\",\"BIC\",\"TR2\"], loc=1)\n",
    "\n",
    "    plt.show()\n",
    "\n",
    "plotor = mn.utils.plotor.plot_pos_over_time\n"
   ]
  },
  {
   "cell_type": "code",
   "execution_count": null,
   "metadata": {
    "execution": {
     "iopub.execute_input": "2022-03-28T13:45:30.543777Z",
     "iopub.status.busy": "2022-03-28T13:45:30.543608Z",
     "iopub.status.idle": "2022-03-28T13:45:34.964749Z",
     "shell.execute_reply": "2022-03-28T13:45:34.964280Z"
    },
    "pycharm": {
     "is_executing": true
    }
   },
   "outputs": [],
   "source": [
    "# TEST THE NETWORK ON THE CENTRE-OUT REACHING TASK\n",
    "\n",
    "n_t = 150\n",
    "nn.task.angle_step = 45\n",
    "[inputs, targets, init_states] = nn.task.generate(n_timesteps=n_t, batch_size=8, centre_out_test=True)\n",
    "results = nn([inputs, init_states], training=False)\n",
    "\n",
    "plot_simulations(xy=results[\"cartesian position\"], target_xy=targets)\n",
    "\n",
    "L1,L2 = nn.task.network.plant.skeleton.L1, nn.task.network.plant.skeleton.L2\n",
    "targets_j = hand_to_joints(targets, L1, L2)\n",
    "n_mov = np.shape(results[\"joint position\"])[0]\n",
    "for i in range(n_mov):\n",
    "    plot1trial(inputs, results, targets_j, i)"
   ]
  },
  {
   "cell_type": "code",
   "execution_count": null,
   "metadata": {
    "execution": {
     "iopub.execute_input": "2022-03-28T13:45:34.967351Z",
     "iopub.status.busy": "2022-03-28T13:45:34.967179Z",
     "iopub.status.idle": "2022-03-28T13:45:35.001019Z",
     "shell.execute_reply": "2022-03-28T13:45:35.000566Z"
    }
   },
   "outputs": [],
   "source": [
    "now = datetime.now()\n",
    "dt_string = now.strftime(\"%d/%m/%Y %H:%M:%S\")\n",
    "print(\"date and time =\", dt_string)"
   ]
  }
 ],
 "metadata": {
  "interpreter": {
   "hash": "6dbe1762d93d89303f96d625098f7c1c5758c17d16e4d80a0c1a0d34c1479b3d"
  },
  "kernelspec": {
   "display_name": "Python 3.8.12 ('motornet')",
   "language": "python",
   "name": "python3"
  },
  "language_info": {
   "codemirror_mode": {
    "name": "ipython",
    "version": 3
   },
   "file_extension": ".py",
   "mimetype": "text/x-python",
   "name": "python",
   "nbconvert_exporter": "python",
   "pygments_lexer": "ipython3",
   "version": "3.8.12"
  }
 },
 "nbformat": 4,
 "nbformat_minor": 2
}
