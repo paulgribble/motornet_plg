{
 "cells": [
  {
   "cell_type": "code",
   "execution_count": null,
   "metadata": {
    "execution": {
     "iopub.execute_input": "2022-05-25T01:43:51.959346Z",
     "iopub.status.busy": "2022-05-25T01:43:51.959243Z",
     "iopub.status.idle": "2022-05-25T01:43:51.964411Z",
     "shell.execute_reply": "2022-05-25T01:43:51.964067Z"
    }
   },
   "outputs": [],
   "source": [
    "from datetime import datetime\n",
    "now = datetime.now()\n",
    "dt_string = now.strftime(\"%d/%m/%Y %H:%M:%S\")\n",
    "print(\"date and time =\", dt_string)"
   ]
  },
  {
   "cell_type": "code",
   "execution_count": null,
   "metadata": {
    "execution": {
     "iopub.execute_input": "2022-05-25T01:43:51.976447Z",
     "iopub.status.busy": "2022-05-25T01:43:51.976343Z",
     "iopub.status.idle": "2022-05-25T01:43:51.978158Z",
     "shell.execute_reply": "2022-05-25T01:43:51.977948Z"
    }
   },
   "outputs": [],
   "source": [
    "from os.path import expanduser\n",
    "import sys\n",
    "motornet_home = expanduser(\"~\") + \"/MotorNet\"\n",
    "sys.path.append(motornet_home)"
   ]
  },
  {
   "cell_type": "code",
   "execution_count": null,
   "metadata": {
    "execution": {
     "iopub.execute_input": "2022-05-25T01:43:51.979524Z",
     "iopub.status.busy": "2022-05-25T01:43:51.979446Z",
     "iopub.status.idle": "2022-05-25T01:43:54.448420Z",
     "shell.execute_reply": "2022-05-25T01:43:54.448043Z"
    }
   },
   "outputs": [],
   "source": [
    "import numpy as np\n",
    "import tensorflow as tf\n",
    "import matplotlib.pyplot as plt\n",
    "import motornet as mn\n",
    "from motornet.plants.muscles import RigidTendonHillMuscleThelen\n",
    "import plg_tasks\n",
    "\n",
    "# Disable all GPUS\n",
    "tf.config.set_visible_devices([], 'GPU')\n",
    "visible_devices = tf.config.get_visible_devices()\n",
    "for device in visible_devices:\n",
    "    assert device.device_type != 'GPU'\n",
    "\n",
    "%load_ext autoreload\n",
    "%autoreload 2"
   ]
  },
  {
   "cell_type": "code",
   "execution_count": null,
   "metadata": {
    "execution": {
     "iopub.execute_input": "2022-05-25T01:43:54.450372Z",
     "iopub.status.busy": "2022-05-25T01:43:54.450256Z",
     "iopub.status.idle": "2022-05-25T01:43:54.935170Z",
     "shell.execute_reply": "2022-05-25T01:43:54.934860Z"
    }
   },
   "outputs": [],
   "source": [
    "# SET UP PLANT\n",
    "pos_lower_bound = np.deg2rad([5, 5])\n",
    "pos_upper_bound = np.deg2rad([125, 125])\n",
    "plant = mn.plants.RigidTendonArm26(muscle_type=RigidTendonHillMuscleThelen(), visual_delay=0.07, proprioceptive_delay=0.02, pos_lower_bound=pos_lower_bound, pos_upper_bound=pos_upper_bound)\n",
    "\n",
    "# SET UP NETWORK\n",
    "n_units = 49\n",
    "network = mn.nets.layers.GRUNetwork(plant=plant, n_units=n_units, kernel_regularizer=1e-7, name='network', recurrent_regularizer=1e-5)\n",
    "\n",
    "# SET UP TASK\n",
    "task = plg_tasks.Gribble1999(network=network)\n",
    "#task.loss_weights['cartesian position'] = 1.0\n",
    "#task.loss_weights['muscle state'] = 5.0\n",
    "\n",
    "rnn = tf.keras.layers.RNN(cell=network, return_sequences=True, name='RNN')\n",
    "\n",
    "input_dict = task.get_input_dict_layers()\n",
    "state0 = task.get_initial_state_layers()\n",
    "states_out = rnn(input_dict, initial_state=state0)\n",
    "\n",
    "nn = mn.nets.MotorNetModel(inputs=[input_dict, state0], outputs=states_out, name='model', task=task)\n",
    "nn.compile(optimizer=tf.optimizers.Adam(clipnorm=1.), loss=task.losses, loss_weights=task.loss_weights)"
   ]
  },
  {
   "cell_type": "code",
   "execution_count": null,
   "metadata": {
    "execution": {
     "iopub.execute_input": "2022-05-25T01:43:54.936804Z",
     "iopub.status.busy": "2022-05-25T01:43:54.936738Z",
     "iopub.status.idle": "2022-05-25T01:43:54.965204Z",
     "shell.execute_reply": "2022-05-25T01:43:54.964939Z"
    }
   },
   "outputs": [],
   "source": [
    "task.get_losses()\n"
   ]
  },
  {
   "cell_type": "code",
   "execution_count": null,
   "metadata": {
    "execution": {
     "iopub.execute_input": "2022-05-25T01:43:54.966747Z",
     "iopub.status.busy": "2022-05-25T01:43:54.966661Z",
     "iopub.status.idle": "2022-05-25T01:51:59.613232Z",
     "shell.execute_reply": "2022-05-25T01:51:59.612946Z"
    },
    "pycharm": {
     "is_executing": true
    }
   },
   "outputs": [],
   "source": [
    "# TRAIN THE NETWORK to make point-to-point movements to random targets in the arm's workspace\n",
    "n_t = 100\n",
    "n_batches = 1024\n",
    "batch_size = 32\n",
    "# this callback logs training information for each batch passed, rather than for each epoch.\n",
    "callbacks = [mn.nets.callbacks.BatchLogger(), mn.nets.callbacks.TrainingPlotter(task, plot_freq=512, plot_trials=1, plot_n_t=n_t)]\n",
    "for i in range(5):\n",
    "    [inputs, targets, init_states] = nn.task.generate(n_timesteps=n_t, batch_size=n_batches * batch_size)\n",
    "    h = nn.fit(x=[inputs, init_states], y=targets, verbose=1, epochs=1, batch_size=batch_size, shuffle=False, callbacks=callbacks)"
   ]
  },
  {
   "cell_type": "code",
   "execution_count": null,
   "metadata": {
    "execution": {
     "iopub.execute_input": "2022-05-25T01:51:59.615278Z",
     "iopub.status.busy": "2022-05-25T01:51:59.615166Z",
     "iopub.status.idle": "2022-05-25T01:51:59.819376Z",
     "shell.execute_reply": "2022-05-25T01:51:59.819048Z"
    }
   },
   "outputs": [],
   "source": [
    "def hand_to_joints(xy, L1, L2):\n",
    "      j = np.zeros(np.shape(xy))\n",
    "      j[:,:,1] = np.arccos((xy[:,:,0]**2 + xy[:,:,1]**2 - L1**2 - L2**2) / (2*L1*L2))\n",
    "      j[:,:,0] = np.arctan2(xy[:,:,1],xy[:,:,0]) - np.arctan2(L2*np.sin(j[:,:,1]),L1+(L2*np.cos(j[:,:,1])))\n",
    "      return j\n",
    "\n",
    "def plot_simulations(xy, target_xy):\n",
    "  target_x = target_xy[:, -1, 0]\n",
    "  target_y = target_xy[:, -1, 1]\n",
    "  plt.figure()\n",
    "  nmov,ntime,_ = np.shape(xy)\n",
    "  for i in range(nmov):\n",
    "        plt.plot(xy[i,:,0],xy[i,:,1],color=\"b\",linewidth=1.0)\n",
    "  plt.scatter(target_x, target_y)\n",
    "  plt.axis(\"equal\")\n",
    "  plt.xlabel(\"X (m)\")\n",
    "  plt.ylabel(\"Y (m)\")\n",
    "  plt.show()\n",
    "\n",
    "def plot1trial(inputs, results, targets_j, trial=0):\n",
    "    j_results = results['joint position']\n",
    "    m_results = results['muscle state']\n",
    "\n",
    "    plt.figure(figsize=(14, 2.5)).set_tight_layout(True)\n",
    "\n",
    "    plt.subplot(141)\n",
    "    plt.plot(j_results[trial, :, 0]*180/np.pi, label='sho')\n",
    "    plt.plot(j_results[trial, :, 1]*180/np.pi, label='elb')\n",
    "    plt.plot(targets_j[trial, :, 0]*180/np.pi, '--')\n",
    "    plt.plot(targets_j[trial, :, 1]*180/np.pi, '--')\n",
    "    plt.axvline(np.where(inputs[\"inputs\"][trial, :, -1] != 1)[0][0] - network.visual_delay, c='grey')\n",
    "    plt.legend()\n",
    "    plt.xlabel('time (ms)')\n",
    "    plt.ylabel('angle (deg)')\n",
    "\n",
    "    plt.subplot(142)\n",
    "    plt.plot(j_results[trial, :, 2], label='sho')\n",
    "    plt.plot(j_results[trial, :, 3], label='elb')\n",
    "    plt.legend()\n",
    "    plt.xlabel('time (ms)')\n",
    "    plt.ylabel('angle velocity (rad/sec)')\n",
    "\n",
    "    plt.subplot(143)\n",
    "    plt.plot(m_results[trial, :, 0, :])\n",
    "    plt.xlabel('time (ms)')\n",
    "    plt.ylabel('activation (a.u.)')\n",
    "    plt.legend([\"PEC\",\"DEL\",\"BRA\",\"TRI\",\"BIC\",\"TR2\"], loc=1)\n",
    "\n",
    "    plt.subplot(144)\n",
    "    plt.plot(m_results[trial, :, -1, :])\n",
    "    plt.xlabel('time (ms)')\n",
    "    plt.ylabel('force (N)')\n",
    "    plt.legend([\"PEC\",\"DEL\",\"BRA\",\"TRI\",\"BIC\",\"TR2\"], loc=1)\n",
    "\n",
    "    plt.show()\n",
    "\n"
   ]
  },
  {
   "cell_type": "code",
   "execution_count": null,
   "metadata": {
    "execution": {
     "iopub.execute_input": "2022-05-25T01:51:59.821243Z",
     "iopub.status.busy": "2022-05-25T01:51:59.821131Z",
     "iopub.status.idle": "2022-05-25T01:52:01.110898Z",
     "shell.execute_reply": "2022-05-25T01:52:01.110560Z"
    },
    "pycharm": {
     "is_executing": true
    }
   },
   "outputs": [],
   "source": [
    "# TEST THE NETWORK on the Gribble 1999 movement targets: EXPERIMENT 1 (elbow flexion only)\n",
    "[inputs, targets, init_states] = nn.task.generate(n_timesteps=n_t, batch_size=1, experiment=1)\n",
    "results = nn([inputs, init_states], training=False)\n",
    "\n",
    "plot_simulations(xy=results[\"cartesian position\"], target_xy=targets)\n",
    "\n",
    "L1,L2 = nn.task.network.plant.skeleton.L1, task.network.plant.skeleton.L2\n",
    "targets_j = hand_to_joints(targets, L1, L2)\n",
    "n_mov = np.shape(results[\"joint position\"])[0]\n",
    "for i in range(n_mov):\n",
    "    plot1trial(inputs, results, targets_j, i)"
   ]
  },
  {
   "cell_type": "code",
   "execution_count": null,
   "metadata": {
    "execution": {
     "iopub.execute_input": "2022-05-25T01:52:01.113819Z",
     "iopub.status.busy": "2022-05-25T01:52:01.113697Z",
     "iopub.status.idle": "2022-05-25T01:52:02.381428Z",
     "shell.execute_reply": "2022-05-25T01:52:02.380907Z"
    },
    "pycharm": {
     "is_executing": true
    }
   },
   "outputs": [],
   "source": [
    "# TEST THE NETWORK on the Gribble 1999 movement targets: EXPERIMENT 2 (shoulder flexion only)\n",
    "[inputs, targets, init_states] = nn.task.generate(n_timesteps=n_t, batch_size=1, experiment=2)\n",
    "results = nn([inputs, init_states], training=False)\n",
    "\n",
    "plot_simulations(xy=results[\"cartesian position\"], target_xy=targets)\n",
    "\n",
    "L1,L2 = nn.task.network.plant.skeleton.L1, task.network.plant.skeleton.L2\n",
    "targets_j = hand_to_joints(targets, L1, L2)\n",
    "n_mov = np.shape(results[\"joint position\"])[0]\n",
    "for i in range(n_mov):\n",
    "    plot1trial(inputs, results, targets_j, i)"
   ]
  },
  {
   "cell_type": "code",
   "execution_count": null,
   "metadata": {
    "collapsed": false,
    "execution": {
     "iopub.execute_input": "2022-05-25T01:52:02.383898Z",
     "iopub.status.busy": "2022-05-25T01:52:02.383812Z",
     "iopub.status.idle": "2022-05-25T01:52:03.805124Z",
     "shell.execute_reply": "2022-05-25T01:52:03.804689Z"
    },
    "pycharm": {
     "is_executing": true,
     "name": "#%%\n"
    }
   },
   "outputs": [],
   "source": [
    "# TEST THE NETWORK on the Gribble 1999 movement targets: EXPERIMENT 3 (combined shoulder and elbow flexion/extension)\n",
    "[inputs, targets, init_states] = nn.task.generate(n_timesteps=n_t, batch_size=1, experiment=3)\n",
    "results = nn([inputs, init_states], training=False)\n",
    "\n",
    "plot_simulations(xy=results[\"cartesian position\"], target_xy=targets)\n",
    "\n",
    "L1,L2 = nn.task.network.plant.skeleton.L1, task.network.plant.skeleton.L2\n",
    "targets_j = hand_to_joints(targets, L1, L2)\n",
    "n_mov = np.shape(results[\"joint position\"])[0]\n",
    "for i in range(n_mov):\n",
    "    plot1trial(inputs, results, targets_j, i)"
   ]
  },
  {
   "cell_type": "code",
   "execution_count": null,
   "metadata": {
    "execution": {
     "iopub.execute_input": "2022-05-25T01:52:03.811057Z",
     "iopub.status.busy": "2022-05-25T01:52:03.810890Z",
     "iopub.status.idle": "2022-05-25T01:52:03.836528Z",
     "shell.execute_reply": "2022-05-25T01:52:03.836239Z"
    }
   },
   "outputs": [],
   "source": [
    "now = datetime.now()\n",
    "dt_string = now.strftime(\"%d/%m/%Y %H:%M:%S\")\n",
    "print(\"date and time =\", dt_string)"
   ]
  }
 ],
 "metadata": {
  "interpreter": {
   "hash": "40ddf371cc5218afbba0c948b74b1f434a332dec0ca7dc8b14598e2af5b99b0d"
  },
  "kernelspec": {
   "display_name": "Python 3.8.13 ('motornet')",
   "language": "python",
   "name": "python3"
  },
  "language_info": {
   "codemirror_mode": {
    "name": "ipython",
    "version": 3
   },
   "file_extension": ".py",
   "mimetype": "text/x-python",
   "name": "python",
   "nbconvert_exporter": "python",
   "pygments_lexer": "ipython3",
   "version": "3.8.13"
  }
 },
 "nbformat": 4,
 "nbformat_minor": 2
}
